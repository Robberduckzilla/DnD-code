{
 "cells": [
  {
   "cell_type": "code",
   "execution_count": 10,
   "metadata": {},
   "outputs": [],
   "source": [
    "# Hi Toni!\n",
    "# Welcome to the machine learning notebook!\n",
    "\n",
    "# This is a jupyter notebook - it's a kind of interactive python application, you'll get the hang of it after a while\n",
    "# This block  (which contains only comments, is a 'cell'.\n",
    "# you can run code in individual cells, so you can jump around running different bits of code in different orders.\n",
    "# This is what makes jupyter popular for data science, because we like to print stuff out a lot and re-code things fast.\n",
    "\n",
    "# Each of these lines are legit python code - these lines are comments (as denoted by the #).\n",
    "# You can run a cell by pressing ctrl + enter or shift + enter."
   ]
  },
  {
   "cell_type": "code",
   "execution_count": 1,
   "metadata": {},
   "outputs": [],
   "source": [
    "# These are imports - we're basically loading a bunch of pre-made functions to use .\n",
    "# 'pandas' and 'json' are called modules - they are the actual collections of functions (the toolbox that contains the tools).\n",
    "\n",
    "#this one is for displaying csv, or excel-like tables in python, and is suuuuuper popular.\n",
    "import pandas as pd\n",
    "\n",
    "#this one is to do cool json stuff in python, because I know you like JSON already :)\n",
    "import json\n",
    "\n",
    "# this one is for machine learning, we'll use it later\n",
    "from sklearn.linear_model import LogisticRegression"
   ]
  },
  {
   "cell_type": "code",
   "execution_count": 19,
   "metadata": {},
   "outputs": [],
   "source": [
    "# A pandas DataFrame\n",
    "df = pd.read_csv('spells.csv')"
   ]
  },
  {
   "cell_type": "code",
   "execution_count": 20,
   "metadata": {},
   "outputs": [],
   "source": [
    "# A Json-like object (python dictionary)\n",
    "with open('spells.json', 'rb') as file:\n",
    "    json_spells = json.load(file)\n",
    "spells = {x: json_spells[x]['description'] for x in json_spells }"
   ]
  },
  {
   "cell_type": "code",
   "execution_count": null,
   "metadata": {},
   "outputs": [],
   "source": [
    "\n"
   ]
  }
 ],
 "metadata": {
  "kernelspec": {
   "display_name": "Python 3",
   "language": "python",
   "name": "python3"
  },
  "language_info": {
   "codemirror_mode": {
    "name": "ipython",
    "version": 3
   },
   "file_extension": ".py",
   "mimetype": "text/x-python",
   "name": "python",
   "nbconvert_exporter": "python",
   "pygments_lexer": "ipython3",
   "version": "3.7.0"
  }
 },
 "nbformat": 4,
 "nbformat_minor": 2
}
